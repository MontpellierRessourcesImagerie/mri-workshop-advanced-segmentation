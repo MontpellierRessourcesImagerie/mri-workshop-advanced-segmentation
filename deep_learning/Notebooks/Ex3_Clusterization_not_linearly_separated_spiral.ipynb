{
  "nbformat": 4,
  "nbformat_minor": 0,
  "metadata": {
    "kernelspec": {
      "display_name": "Python 3",
      "language": "python",
      "name": "python3"
    },
    "language_info": {
      "codemirror_mode": {
        "name": "ipython",
        "version": 3
      },
      "file_extension": ".py",
      "mimetype": "text/x-python",
      "name": "python",
      "nbconvert_exporter": "python",
      "pygments_lexer": "ipython3",
      "version": "3.7.1"
    },
    "colab": {
      "name": "Ex3_Clusterization_not_linearly_separated_spiral.ipynb",
      "provenance": []
    }
  },
  "cells": [
    {
      "cell_type": "markdown",
      "metadata": {
        "id": "pk_SBGS3fbwl"
      },
      "source": [
        "# Step III : Spirale challenge\n",
        "\n",
        "In this example, the set of coordinates of the points are now separated using two spirals (instead of a line or a parabola as in the previoius examples). Build your own network to properly separate the two sets of data.\n"
      ]
    },
    {
      "cell_type": "markdown",
      "metadata": {
        "id": "Sf_IeA-ofbwn"
      },
      "source": [
        "Definition of a training data where the two classes are defined by two opposite spirals. The size of the \n",
        "training data set is 500. On top of it a Validation data set and a Testing data set are also defined, both of them\n",
        "being of size 200."
      ]
    },
    {
      "cell_type": "code",
      "metadata": {
        "id": "R2z9i7m4fbwo"
      },
      "source": [
        "import random\n",
        "import numpy as np\n",
        "import math\n",
        "import matplotlib.pyplot as plt\n",
        "    \n",
        "def Training_set_spirale(a,b,N):\n",
        "    \n",
        "    n = 0\n",
        "    Data = np.zeros([N+2400,2])\n",
        "    Labels = np.zeros([N+2400,1])\n",
        "      \n",
        "    for n in range(0,N+2400):\n",
        "        Theta = random.uniform(0, 10*math.pi)\n",
        "        l = random.uniform(0, 1)\n",
        "        p = random.uniform(0, 1)\n",
        "        r = a*Theta+b;\n",
        "        \n",
        "        if l < 0.5 and p < 0.99:\n",
        "            Labels[n,0] = 0\n",
        "            Data[n,0] = (r+random.uniform(-.5, .5))*math.cos(r)\n",
        "            Data[n,1] = (r+random.uniform(-.5, .5))*math.sin(r)\n",
        "        elif l < 0.5 and p >= 0.99:           \n",
        "            Labels[n,0] = 1\n",
        "            Data[n,0] = (r+random.uniform(-.5, .5))*math.cos(r)\n",
        "            Data[n,1] = (r+random.uniform(-.5, .5))*math.sin(r)\n",
        "        else : \n",
        "            Labels[n,0] = 1\n",
        "            Data[n,0] = -(r+random.uniform(-.5, .5))*math.cos(r)\n",
        "            Data[n,1] = -(r+random.uniform(-.5, .5))*math.sin(r)\n",
        "\n",
        "    Training_data = Data[:N,]\n",
        "    Training_label = Labels[:N,]\n",
        "    Validation_data = Data[N:N+200,]\n",
        "    Validation_label = Labels[N:N+200,]\n",
        "    Testing_data = Data[N+200:,]\n",
        "    Testing_label = Labels[N+200:,]\n",
        "        \n",
        "    return Training_data, Testing_data, Validation_data, Training_label, Validation_label, Testing_label\n",
        "\n",
        "def Training_set_clusters(N):\n",
        "    \n",
        "    n = 0\n",
        "    Data = np.zeros([N+400,2])\n",
        "    Labels = np.zeros([N+400,1])   "
      ],
      "execution_count": null,
      "outputs": []
    },
    {
      "cell_type": "markdown",
      "metadata": {
        "id": "HRbGwxtyfbww"
      },
      "source": [
        "The training/validation/testing sets are defined below. The training set is then plot using two different colors\n",
        "to distinguish the two classes"
      ]
    },
    {
      "cell_type": "code",
      "metadata": {
        "id": "6OgSjUz3fbwy",
        "colab": {
          "base_uri": "https://localhost:8080/",
          "height": 265
        },
        "outputId": "b9cb6851-7897-4449-a457-6844aa407926"
      },
      "source": [
        "a = 0.25;\n",
        "b = 0;\n",
        "N = 1500; # number of training points\n",
        "    \n",
        "Training_data, Testing_data, Validation_data, Training_label, Validation_label, Testing_label = Training_set_spirale(a,b,N) \n",
        "\n",
        "E = np.mean(Training_data)\n",
        "Std = np.std(Training_data)\n",
        "\n",
        "Training_data = (Training_data-E)/Std\n",
        "Testing_data = (Testing_data-E)/Std\n",
        "Validation_data = (Validation_data-E)/Std\n",
        "\n",
        "X0 = []\n",
        "X1 = []\n",
        "Y0 = []\n",
        "Y1 = []\n",
        "for n in range(0,N):\n",
        "    x = Training_data[n,0]\n",
        "    if Training_label[n]==0:\n",
        "        X0.append(Training_data[n,0])\n",
        "        Y0.append(Training_data[n,1])\n",
        "    else:\n",
        "        X1.append(Training_data[n,0])\n",
        "        Y1.append(Training_data[n,1])\n",
        "\n",
        "         \n",
        "plt.plot(X0, Y0, 'r.')\n",
        "plt.plot(X1, Y1, 'b.')\n",
        "plt.axis('square')\n",
        "plt.show() "
      ],
      "execution_count": null,
      "outputs": [
        {
          "output_type": "display_data",
          "data": {
            "image/png": "[encoded data removed]",
            "text/plain": [
              "<Figure size 432x288 with 1 Axes>"
            ]
          },
          "metadata": {
            "tags": [],
            "needs_background": "light"
          }
        }
      ]
    },
    {
      "cell_type": "markdown",
      "metadata": {
        "id": "W9XKoW6Ofbw3"
      },
      "source": [
        "Define the architecture of the model. You will have to decide how many layers and neurons are necessary to solve this problem. Since we are working with two classes, the activation function is \"sigmoid\" and the loss function \"binary cross-entropy\". In the end the distinction between the two classes will be made on the base of whether the output will be below or above 0,5."
      ]
    },
    {
      "cell_type": "code",
      "metadata": {
        "id": "zkD29pCcfbw4",
        "colab": {
          "base_uri": "https://localhost:8080/"
        },
        "outputId": "280a65e9-17fd-4e79-ba05-feaa83e6ff8b"
      },
      "source": [
        "from keras import models\n",
        "from keras import layers\n",
        "from keras import optimizers\n",
        "\n",
        "model = models.Sequential()\n",
        "model.add(layers.Dense(8,activation='relu', input_shape=(2,)))\n",
        "model.add(layers.Dense(16,activation='relu'))\n",
        "model.add(layers.Dense(32,activation='relu'))\n",
        "model.add(layers.Dense(64,activation='relu'))\n",
        "model.add(layers.Dense(16,activation='relu'))\n",
        "model.add(layers.Dense(8,activation='relu'))\n",
        "model.add(layers.Dense(1,activation='sigmoid'))\n",
        "\n",
        "model.compile(optimizer = optimizers.SGD(lr=2e-3), \n",
        "              loss='binary_crossentropy',\n",
        "              metrics=['accuracy'])\n",
        "\n",
        "model.summary()"
      ],
      "execution_count": null,
      "outputs": [
        {
          "output_type": "stream",
          "text": [
            "Model: \"sequential_3\"\n",
            "_________________________________________________________________\n",
            "Layer (type)                 Output Shape              Param #   \n",
            "=================================================================\n",
            "dense_18 (Dense)             (None, 8)                 24        \n",
            "_________________________________________________________________\n",
            "dense_19 (Dense)             (None, 16)                144       \n",
            "_________________________________________________________________\n",
            "dense_20 (Dense)             (None, 32)                544       \n",
            "_________________________________________________________________\n",
            "dense_21 (Dense)             (None, 64)                2112      \n",
            "_________________________________________________________________\n",
            "dense_22 (Dense)             (None, 16)                1040      \n",
            "_________________________________________________________________\n",
            "dense_23 (Dense)             (None, 8)                 136       \n",
            "_________________________________________________________________\n",
            "dense_24 (Dense)             (None, 1)                 9         \n",
            "=================================================================\n",
            "Total params: 4,009\n",
            "Trainable params: 4,009\n",
            "Non-trainable params: 0\n",
            "_________________________________________________________________\n"
          ],
          "name": "stdout"
        }
      ]
    },
    {
      "cell_type": "markdown",
      "metadata": {
        "id": "pxIU7dGdfbw8"
      },
      "source": [
        "Training of the model. The number of Epoch and the minibatch size are defined below. The results at each iteraction\n",
        "are saved in order to compare the accuracy calculated for the training set and for the validation set. These data are\n",
        "saved in the variable history.\n"
      ]
    },
    {
      "cell_type": "code",
      "metadata": {
        "id": "SORjKw_6fbw9",
        "colab": {
          "base_uri": "https://localhost:8080/"
        },
        "outputId": "714b4efd-3fe3-4dfc-d31f-3b75e310b4db"
      },
      "source": [
        "history = model.fit(Training_data,\n",
        "                    Training_label,\n",
        "                    epochs = 30,\n",
        "                    batch_size = 1,\n",
        "                    validation_data = (Validation_data, Validation_label))"
      ],
      "execution_count": null,
      "outputs": [
        {
          "output_type": "stream",
          "text": [
            "Epoch 1/30\n",
            "1500/1500 [==============================] - 2s 1ms/step - loss: 0.1169 - accuracy: 0.9633 - val_loss: 0.1021 - val_accuracy: 0.9700\n",
            "Epoch 2/30\n",
            "1500/1500 [==============================] - 2s 1ms/step - loss: 0.1125 - accuracy: 0.9687 - val_loss: 0.0976 - val_accuracy: 0.9700\n",
            "Epoch 3/30\n",
            "1500/1500 [==============================] - 2s 1ms/step - loss: 0.1047 - accuracy: 0.9693 - val_loss: 0.0916 - val_accuracy: 0.9800\n",
            "Epoch 4/30\n",
            "1500/1500 [==============================] - 2s 1ms/step - loss: 0.1088 - accuracy: 0.9673 - val_loss: 0.1621 - val_accuracy: 0.9300\n",
            "Epoch 5/30\n",
            "1500/1500 [==============================] - 2s 1ms/step - loss: 0.1051 - accuracy: 0.9713 - val_loss: 0.0703 - val_accuracy: 0.9850\n",
            "Epoch 6/30\n",
            "1500/1500 [==============================] - 2s 1ms/step - loss: 0.0961 - accuracy: 0.9733 - val_loss: 0.0813 - val_accuracy: 0.9800\n",
            "Epoch 7/30\n",
            "1500/1500 [==============================] - 2s 1ms/step - loss: 0.0969 - accuracy: 0.9727 - val_loss: 0.0638 - val_accuracy: 0.9900\n",
            "Epoch 8/30\n",
            "1500/1500 [==============================] - 2s 1ms/step - loss: 0.0935 - accuracy: 0.9707 - val_loss: 0.1446 - val_accuracy: 0.9500\n",
            "Epoch 9/30\n",
            "1500/1500 [==============================] - 2s 1ms/step - loss: 0.0908 - accuracy: 0.9733 - val_loss: 0.0697 - val_accuracy: 0.9800\n",
            "Epoch 10/30\n",
            "1500/1500 [==============================] - 2s 1ms/step - loss: 0.0879 - accuracy: 0.9720 - val_loss: 0.0671 - val_accuracy: 0.9900\n",
            "Epoch 11/30\n",
            "1500/1500 [==============================] - 2s 1ms/step - loss: 0.0891 - accuracy: 0.9713 - val_loss: 0.0988 - val_accuracy: 0.9650\n",
            "Epoch 12/30\n",
            "1500/1500 [==============================] - 2s 1ms/step - loss: 0.0873 - accuracy: 0.9700 - val_loss: 0.0642 - val_accuracy: 0.9900\n",
            "Epoch 13/30\n",
            "1500/1500 [==============================] - 2s 1ms/step - loss: 0.0861 - accuracy: 0.9747 - val_loss: 0.0759 - val_accuracy: 0.9900\n",
            "Epoch 14/30\n",
            "1500/1500 [==============================] - 2s 1ms/step - loss: 0.0830 - accuracy: 0.9773 - val_loss: 0.0848 - val_accuracy: 0.9850\n",
            "Epoch 15/30\n",
            "1500/1500 [==============================] - 2s 1ms/step - loss: 0.0871 - accuracy: 0.9740 - val_loss: 0.0890 - val_accuracy: 0.9800\n",
            "Epoch 16/30\n",
            "1500/1500 [==============================] - 2s 1ms/step - loss: 0.0855 - accuracy: 0.9700 - val_loss: 0.0762 - val_accuracy: 0.9900\n",
            "Epoch 17/30\n",
            "1500/1500 [==============================] - 2s 1ms/step - loss: 0.0848 - accuracy: 0.9727 - val_loss: 0.0733 - val_accuracy: 0.9900\n",
            "Epoch 18/30\n",
            "1500/1500 [==============================] - 2s 1ms/step - loss: 0.0845 - accuracy: 0.9707 - val_loss: 0.0964 - val_accuracy: 0.9650\n",
            "Epoch 19/30\n",
            "1500/1500 [==============================] - 2s 1ms/step - loss: 0.0849 - accuracy: 0.9713 - val_loss: 0.0807 - val_accuracy: 0.9900\n",
            "Epoch 20/30\n",
            "1500/1500 [==============================] - 2s 1ms/step - loss: 0.0767 - accuracy: 0.9727 - val_loss: 0.0945 - val_accuracy: 0.9800\n",
            "Epoch 21/30\n",
            "1500/1500 [==============================] - 2s 1ms/step - loss: 0.0805 - accuracy: 0.9753 - val_loss: 0.1056 - val_accuracy: 0.9600\n",
            "Epoch 22/30\n",
            "1500/1500 [==============================] - 2s 1ms/step - loss: 0.0807 - accuracy: 0.9747 - val_loss: 0.1220 - val_accuracy: 0.9600\n",
            "Epoch 23/30\n",
            "1500/1500 [==============================] - 2s 1ms/step - loss: 0.0812 - accuracy: 0.9747 - val_loss: 0.0779 - val_accuracy: 0.9750\n",
            "Epoch 24/30\n",
            "1500/1500 [==============================] - 2s 1ms/step - loss: 0.0836 - accuracy: 0.9693 - val_loss: 0.0720 - val_accuracy: 0.9900\n",
            "Epoch 25/30\n",
            "1500/1500 [==============================] - 2s 1ms/step - loss: 0.0794 - accuracy: 0.9733 - val_loss: 0.0709 - val_accuracy: 0.9850\n",
            "Epoch 26/30\n",
            "1500/1500 [==============================] - 2s 1ms/step - loss: 0.0787 - accuracy: 0.9753 - val_loss: 0.0904 - val_accuracy: 0.9750\n",
            "Epoch 27/30\n",
            "1500/1500 [==============================] - 2s 1ms/step - loss: 0.0808 - accuracy: 0.9720 - val_loss: 0.0871 - val_accuracy: 0.9850\n",
            "Epoch 28/30\n",
            "1500/1500 [==============================] - 2s 1ms/step - loss: 0.0795 - accuracy: 0.9740 - val_loss: 0.0940 - val_accuracy: 0.9750\n",
            "Epoch 29/30\n",
            "1500/1500 [==============================] - 2s 1ms/step - loss: 0.0784 - accuracy: 0.9740 - val_loss: 0.0731 - val_accuracy: 0.9900\n",
            "Epoch 30/30\n",
            "1500/1500 [==============================] - 2s 1ms/step - loss: 0.0773 - accuracy: 0.9727 - val_loss: 0.0731 - val_accuracy: 0.9900\n"
          ],
          "name": "stdout"
        }
      ]
    },
    {
      "cell_type": "markdown",
      "metadata": {
        "id": "ujDPjHgtfbxC"
      },
      "source": [
        "The accuracy of the model is tested using the testing set of data."
      ]
    },
    {
      "cell_type": "code",
      "metadata": {
        "id": "shJgC4jJfbxD",
        "colab": {
          "base_uri": "https://localhost:8080/",
          "height": 265
        },
        "outputId": "23572578-4bab-43e2-bcd1-b17cf589763e"
      },
      "source": [
        "Results = model.predict(Testing_data)\n",
        "Length = len(Results)\n",
        "\n",
        "X0 = []\n",
        "X1 = []\n",
        "Y0 = []\n",
        "Y1 = []\n",
        "for n in range(0,Length):\n",
        "\n",
        "    if Results[n]<=0.5:\n",
        "        X0.append(Testing_data[n,0])\n",
        "        Y0.append(Testing_data[n,1])\n",
        "    else:\n",
        "        X1.append(Testing_data[n,0])\n",
        "        Y1.append(Testing_data[n,1]) \n",
        "        \n",
        "plt.plot(X0, Y0, 'r.')\n",
        "plt.plot(X1, Y1, 'b.')\n",
        "plt.axis('square')\n",
        "plt.show() "
      ],
      "execution_count": null,
      "outputs": [
        {
          "output_type": "display_data",
          "data": {
            "image/png": "[encoded data removed]",
            "text/plain": [
              "<Figure size 432x288 with 1 Axes>"
            ]
          },
          "metadata": {
            "tags": [],
            "needs_background": "light"
          }
        }
      ]
    },
    {
      "cell_type": "markdown",
      "metadata": {
        "id": "At6_zKxgfbxI"
      },
      "source": [
        "In the same way, using the model.evaluate function you can test the accuracy of the model when working on the testing\n",
        "set. The second number returns the average accuracy."
      ]
    },
    {
      "cell_type": "code",
      "metadata": {
        "id": "Fgt7iAnhfbxI",
        "colab": {
          "base_uri": "https://localhost:8080/"
        },
        "outputId": "0068e6dc-a123-4745-e0b2-8879e88a89ea"
      },
      "source": [
        "Predication_accuracy = model.evaluate(Testing_data, Testing_label)\n",
        "print(Predication_accuracy)"
      ],
      "execution_count": null,
      "outputs": [
        {
          "output_type": "stream",
          "text": [
            "69/69 [==============================] - 0s 1ms/step - loss: 0.6388 - accuracy: 0.5818\n",
            "[0.6388360857963562, 0.581818163394928]\n"
          ],
          "name": "stdout"
        }
      ]
    },
    {
      "cell_type": "markdown",
      "metadata": {
        "id": "IsbdiuqwfbxM"
      },
      "source": [
        "Below the accuracy for the training and validation sets are plotted"
      ]
    },
    {
      "cell_type": "code",
      "metadata": {
        "id": "st7xcrsCfbxN",
        "colab": {
          "base_uri": "https://localhost:8080/",
          "height": 312
        },
        "outputId": "e4b270af-f13a-493b-d2d3-2b11e8157c89"
      },
      "source": [
        "history_dict = history.history\n",
        "print( history_dict.keys() )\n",
        "\n",
        "acc_values = history_dict['accuracy']\n",
        "val_acc_values = history_dict['val_accuracy']\n",
        "\n",
        "n = len(acc_values)\n",
        "epochs = range(1, n+1)\n",
        "\n",
        "plt.plot(epochs, acc_values, 'bo', label='Training acc')\n",
        "plt.plot(epochs, val_acc_values, 'b', label='Validation acc')\n",
        "plt.title('Training and validation accuracy')\n",
        "plt.xlabel('Epochs')\n",
        "plt.ylabel('Accuracy')\n",
        "plt.legend()\n",
        "plt.show()"
      ],
      "execution_count": null,
      "outputs": [
        {
          "output_type": "stream",
          "text": [
            "dict_keys(['loss', 'accuracy', 'val_loss', 'val_accuracy'])\n"
          ],
          "name": "stdout"
        },
        {
          "output_type": "display_data",
          "data": {
            "image/png": "[encoded data removed]",
            "text/plain": [
              "<Figure size 432x288 with 1 Axes>"
            ]
          },
          "metadata": {
            "tags": [],
            "needs_background": "light"
          }
        }
      ]
    },
    {
      "cell_type": "markdown",
      "metadata": {
        "id": "bQyqlTaOfbxQ"
      },
      "source": [
        "Below the validation loss for the training and validation sets are plotted"
      ]
    },
    {
      "cell_type": "code",
      "metadata": {
        "id": "V6ZZALRcfbxR",
        "colab": {
          "base_uri": "https://localhost:8080/",
          "height": 295
        },
        "outputId": "d5a18c8e-f5a2-4789-ffd8-c6f6c8b5fd80"
      },
      "source": [
        "loss_values = history_dict['loss']\n",
        "val_loss_values = history_dict['val_loss']\n",
        "\n",
        "plt.plot(epochs, loss_values, 'bo', label='Training loss')\n",
        "plt.plot(epochs, val_loss_values, 'b', label='Validation loss')\n",
        "plt.title('Training and validation loss')\n",
        "plt.xlabel('Epochs')\n",
        "plt.ylabel('Loss')\n",
        "plt.legend()\n",
        "plt.show()"
      ],
      "execution_count": null,
      "outputs": [
        {
          "output_type": "display_data",
          "data": {
            "image/png": "[encoded data removed]",
            "text/plain": [
              "<Figure size 432x288 with 1 Axes>"
            ]
          },
          "metadata": {
            "tags": [],
            "needs_background": "light"
          }
        }
      ]
    },
    {
      "cell_type": "markdown",
      "metadata": {
        "id": "D36JIs9NfbxV"
      },
      "source": [
        "A plot is obtained to illustrate how the data are modified by the network in order to classify them."
      ]
    },
    {
      "cell_type": "code",
      "metadata": {
        "id": "asYCYFcGfbxW",
        "colab": {
          "base_uri": "https://localhost:8080/",
          "height": 279
        },
        "outputId": "df3ecb10-90bc-4e80-bb2d-d60c31374751"
      },
      "source": [
        "Results = model.predict(Testing_data)\n",
        "\n",
        "X0 = []\n",
        "X1 = []\n",
        "Y0 = []\n",
        "Y1 = []\n",
        "for n in range(0,Length):\n",
        "\n",
        "    if Results[n]<=0.5:\n",
        "        X0.append(Results[n])\n",
        "        Y0.append(Testing_data[n,0])\n",
        "    else:\n",
        "        X1.append(Results[n])\n",
        "        Y1.append(Testing_data[n,0])\n",
        "        \n",
        "plt.plot(Y0, X0, 'r.')\n",
        "plt.plot(Y1, X1, 'b.')\n",
        "plt.ylabel('Model output')\n",
        "plt.xlabel('X position')\n",
        "plt.show()"
      ],
      "execution_count": null,
      "outputs": [
        {
          "output_type": "display_data",
          "data": {
            "image/png": "[encoded data removed]",
            "text/plain": [
              "<Figure size 432x288 with 1 Axes>"
            ]
          },
          "metadata": {
            "tags": [],
            "needs_background": "light"
          }
        }
      ]
    },
    {
      "cell_type": "code",
      "metadata": {
        "id": "m6tvWwYnfbxZ"
      },
      "source": [
        ""
      ],
      "execution_count": null,
      "outputs": []
    }
  ]
}